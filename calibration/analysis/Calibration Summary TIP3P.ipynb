{
 "cells": [
  {
   "cell_type": "code",
   "execution_count": 1,
   "metadata": {
    "collapsed": false
   },
   "outputs": [
    {
     "ename": "SyntaxError",
     "evalue": "invalid syntax (<ipython-input-1-726d37375e8f>, line 12)",
     "output_type": "error",
     "traceback": [
      "\u001b[0;36m  File \u001b[0;32m\"<ipython-input-1-726d37375e8f>\"\u001b[0;36m, line \u001b[0;32m12\u001b[0m\n\u001b[0;31m    import calibration_tools as toolsfrom saltswap.wrappers import Salinator\u001b[0m\n\u001b[0m                                                 ^\u001b[0m\n\u001b[0;31mSyntaxError\u001b[0m\u001b[0;31m:\u001b[0m invalid syntax\n"
     ]
    }
   ],
   "source": [
    "from netCDF4 import Dataset\n",
    "import numpy as np\n",
    "from pymbar import bar\n",
    "import matplotlib.pyplot as plt\n",
    "from glob import glob\n",
    "%matplotlib inline\n",
    "\n",
    "import sys \n",
    "import os\n",
    "sys.path.append(os.path.abspath(\"../../analysis_scripts/\"))\n",
    "\n",
    "import calibration_tools as toolsfrom saltswap.wrappers import Salinator"
   ]
  },
  {
   "cell_type": "markdown",
   "metadata": {},
   "source": [
    "# TIP3P Calibration in brief"
   ]
  },
  {
   "cell_type": "markdown",
   "metadata": {},
   "source": [
    " Reading in the self adjusted mixture sampling simulation data."
   ]
  },
  {
   "cell_type": "code",
   "execution_count": null,
   "metadata": {
    "collapsed": false
   },
   "outputs": [],
   "source": [
    "DIR = \"../sams/tip3p/\"\n",
    "files = ['out1.nc', 'out2.nc', 'out3.nc']\n",
    "\n",
    "volume = []\n",
    "sams_estimate = []\n",
    "nwats = []\n",
    "nsalt = []\n",
    "proposal = []\n",
    "protocol_work = []\n",
    "for file in files:\n",
    "    ncfile = Dataset(DIR + file,'r')\n",
    "    volume.append(ncfile.groups['Sample state data']['volume'][:])\n",
    "    sams_estimate.append(ncfile.groups['Sample state data']['sams bias'][-1,:])\n",
    "    proposal.append(ncfile.groups['Sample state data']['proposal'][:][:,0,:])\n",
    "    nspecies = ncfile.groups['Sample state data']['species counts']\n",
    "    protocol_work.append(ncfile.groups['Sample state data']['cumulative work'][:,0,-1])\n",
    "    nwats.append(nspecies[:,0])\n",
    "    nsalt.append(nspecies[:,1])\n",
    "    ncfile.close()\n",
    "\n",
    "volume = np.hstack(([],*volume))\n",
    "nwats = np.hstack(([],*nwats))\n",
    "nsalt = np.hstack(([],*nsalt))\n",
    "protocol_work =  np.hstack(([],*protocol_work))\n",
    "proposal = np.vstack(proposal)"
   ]
  },
  {
   "cell_type": "code",
   "execution_count": null,
   "metadata": {
    "collapsed": false
   },
   "outputs": [],
   "source": []
  },
  {
   "cell_type": "markdown",
   "metadata": {},
   "source": [
    "## Comparing the relative free energy to add salt using BAR and SAMS"
   ]
  },
  {
   "cell_type": "code",
   "execution_count": null,
   "metadata": {
    "collapsed": false
   },
   "outputs": [],
   "source": [
    "# Looking at the proposed insertions and deletions and extracting the corresponding work\n",
    "max_nsalt = int(np.max(nsalt))\n",
    "relative_free_energy = np.zeros(max_nsalt)\n",
    "error = np.zeros(max_nsalt)\n",
    "for i in range(max_nsalt):\n",
    "    f, e = tools.calc_relative_free_energy(i, i+1, max_waters=np.max(nwats), proposals=proposal, work=protocol_work)\n",
    "    relative_free_energy[i] = f\n",
    "    error[i] = e"
   ]
  },
  {
   "cell_type": "markdown",
   "metadata": {},
   "source": [
    "Plotting the BAR and SAMS results. SAMS calculates the cumulative free energy to add salt, so taking the relative difference to compare with BAR."
   ]
  },
  {
   "cell_type": "code",
   "execution_count": null,
   "metadata": {
    "collapsed": false
   },
   "outputs": [],
   "source": [
    "plt.figure(figsize=[8,6])\n",
    "plt.errorbar(range(max_nsalt), relative_free_energy, yerr=error*2, label='Number corrected BAR', fmt='o')\n",
    "for i in range(len(files)):\n",
    "    plt.plot(-np.diff(sams_estimate[i]), label='SAMS Run {}'.format(i + 1), lw=2)\n",
    "\n",
    "plt.xticks(range(0,20,1))\n",
    "plt.title('Salt insertion free energies calculated with BAR', fontsize=15)\n",
    "plt.xlabel('Number of salt present', fontsize=16)\n",
    "plt.ylabel('Relative free energy to add salt', fontsize=16)\n",
    "plt.legend(fontsize=15)\n",
    "plt.show()"
   ]
  },
  {
   "cell_type": "markdown",
   "metadata": {},
   "source": [
    "## Viewing how the average volume of the system varies with salt present"
   ]
  },
  {
   "cell_type": "code",
   "execution_count": null,
   "metadata": {
    "collapsed": false
   },
   "outputs": [],
   "source": [
    "# Calculate the volume as a function of salt present\n",
    "average_volume, error_volume = tools.calc_volume(volume, nsalt)\n",
    "\n",
    "plt.figure(figsize=[8,6])\n",
    "x = np.arange(np.max(nsalt)+1)\n",
    "plt.errorbar(x, average_volume, yerr=error_volume*2, fmt='o')\n",
    "plt.title('Variation of system volume with salt numbers', fontsize=15)\n",
    "plt.xlabel('Number of salt present', fontsize=16)\n",
    "plt.ylabel('Volume of simulation ($nm^3$)', fontsize=16)\n",
    "plt.show()"
   ]
  },
  {
   "cell_type": "markdown",
   "metadata": {},
   "source": [
    "## Predicting salt concentration as a function of the applied chemical potential\n",
    "Estimating the uncertainty using bootstrap sampling of the BAR error estimate and assuming the BAR estimate is normally distributed. For now, it is assumed that the variation in volume is insignificant."
   ]
  },
  {
   "cell_type": "code",
   "execution_count": null,
   "metadata": {
    "collapsed": false
   },
   "outputs": [],
   "source": [
    "# The chemical potentials\n",
    "mu = np.linspace(314.5,322, 100)\n",
    "\n",
    "# The cumulative free energy to add salt\n",
    "fn = np.hstack((0.0,np.cumsum(relative_free_energy)))\n",
    "\n",
    "# Predict the cocentrations\n",
    "nbootstraps = 500\n",
    "predicted_concentration = np.zeros(len(mu))\n",
    "predicted_ensemble = np.zeros((len(mu),nbootstraps))\n",
    "\n",
    "for i in range(len(mu)):\n",
    "    predicted_concentration[i] = Salinator.predict_concentration(mu[i], fn, average_volume)\n",
    "    predicted_ensemble[i,:] = tools.predict_ensemble_concentration(mu[i], nsamples=nbootstraps, volume=average_volume, std_volume=error_volume, relative_free_energy=relative_free_energy, std_free=error)    "
   ]
  },
  {
   "cell_type": "markdown",
   "metadata": {},
   "source": [
    "Plotting the salt titration curve:"
   ]
  },
  {
   "cell_type": "code",
   "execution_count": null,
   "metadata": {
    "collapsed": false
   },
   "outputs": [],
   "source": [
    "plt.figure(figsize=[8,6])\n",
    "plt.plot(mu, predicted_ensemble, color='grey',alpha=0.05)\n",
    "plt.plot(mu, predicted_concentration, color='red')\n",
    "plt.xlabel('Chemical potential (kT)', fontsize=16)\n",
    "plt.ylabel('Concentration (M)', fontsize=16)\n",
    "plt.title('TIP3P calibration curve with estimated uncertainty', fontsize=15)\n",
    "plt.show()"
   ]
  },
  {
   "cell_type": "markdown",
   "metadata": {},
   "source": [
    "Note how the truncation of the calibration at `nsalt=20` results in a tailing off of the curve at lower values of the chemical potential. \n",
    "\n",
    "Quantifying the relative uncertainty in the predicted salt concentration with the coefficient of variation."
   ]
  },
  {
   "cell_type": "code",
   "execution_count": null,
   "metadata": {
    "collapsed": false
   },
   "outputs": [],
   "source": [
    "plt.figure(figsize=[8,6])\n",
    "plt.plot(mu, 100.0*predicted_ensemble.std(axis=1)/predicted_concentration, lw=2)\n",
    "plt.title('Coefficient of variation for the estimated salt concentration', fontsize=15)\n",
    "plt.ylabel('Coffecient of variation (%)', fontsize=16)\n",
    "plt.xlabel('Chemical potential (kT)', fontsize=16)\n",
    "plt.show()"
   ]
  },
  {
   "cell_type": "markdown",
   "metadata": {},
   "source": [
    "### Select new chemical potentials to validate the above titration curves\n",
    "Which chemical potentials should one use to relicate specified concentrations?"
   ]
  },
  {
   "cell_type": "code",
   "execution_count": null,
   "metadata": {
    "collapsed": false
   },
   "outputs": [],
   "source": [
    "# Picking the concentrations we want to observe (in M):\n",
    "desired_conentration = np.array([1.0, 0.8, 0.6, 0.4, 0.2, 0.1, 0.05])\n",
    "\n",
    "# Inverting the above titration curve to get the chemical potentials that correspond to the above concentrations\n",
    "required_mu = np.zeros(len(desired_conentration))\n",
    "for i in range(len(desired_conentration)):\n",
    "    required_mu[i] = Salinator.invert_concentration(float(desired_conentration[i]), fn, average_volume)\n",
    "\n",
    "plt.figure(figsize=[8,6])\n",
    "#mu = np.linspace(310,322, 100)\n",
    "plt.plot(mu, predicted_concentration, color='red', label='calibration fit', lw=2)\n",
    "for i in range(len(required_mu)):\n",
    "    if required_mu[i] == required_mu[-1]:\n",
    "        plt.vlines(required_mu[i], ymin=0, ymax=desired_conentration[i], linestyle='-', color='grey', label='New values')\n",
    "    else:\n",
    "        plt.vlines(required_mu[i], ymin=0, ymax=desired_conentration[i], linestyle='-', color='grey')\n",
    "    plt.hlines(desired_conentration[i], xmin=mu[0], xmax=required_mu[i], linestyle='--', color='grey')\n",
    "        \n",
    "plt.legend(fontsize=14)\n",
    "plt.title('Inverting theconcentration to get the chemical potential', fontsize=14)\n",
    "plt.xlabel('Chemical potential', fontsize=16)\n",
    "plt.ylabel('Expected number', fontsize=16)\n",
    "plt.show()\n",
    "\n",
    "print('Required chemical potentials=',required_mu)"
   ]
  },
  {
   "cell_type": "code",
   "execution_count": null,
   "metadata": {
    "collapsed": true
   },
   "outputs": [],
   "source": []
  }
 ],
 "metadata": {
  "kernelspec": {
   "display_name": "Python 3",
   "language": "python",
   "name": "python3"
  },
  "language_info": {
   "codemirror_mode": {
    "name": "ipython",
    "version": 3
   },
   "file_extension": ".py",
   "mimetype": "text/x-python",
   "name": "python",
   "nbconvert_exporter": "python",
   "pygments_lexer": "ipython3",
   "version": "3.5.2"
  }
 },
 "nbformat": 4,
 "nbformat_minor": 2
}

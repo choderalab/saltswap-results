{
 "cells": [
  {
   "cell_type": "code",
   "execution_count": 1,
   "metadata": {},
   "outputs": [],
   "source": [
    "import numpy as np\n",
    "from netCDF4 import Dataset\n",
    "import mdtraj\n",
    "\n",
    "import sys\n",
    "sys.path.append(\"../analysis_scripts/\")\n",
    "import misc_tools as misc_tools"
   ]
  },
  {
   "cell_type": "markdown",
   "metadata": {},
   "source": [
    "# Creating 3D ion density plots around biomolecules\n",
    "\n",
    "## 1. Center the simulation around the biomolecule of interest \n",
    "Simulations are centered around the biomolecule of interest using `VMD`. \n",
    "### 1.1 Wrap the solvent around the biomolecule\n",
    "If the biomolecule is a protein, the following command is entered in the `VMD` `tk console` to center the solvent around biomolecule:\n",
    "```\n",
    "package require pbctools\n",
    "pbc wrap -centersel \"protein\" -center com -compound residue -all\n",
    "```\n",
    "For the DNA dodecamer, the following commands are used:\n",
    "```\n",
    "package require pbctools\n",
    "pbc wrap -centersel \"resid 1 to 24\" -center com -compound residue -all\n",
    "```\n",
    "### 1.2 Align the simulation to the first frame\n",
    "Using the `RMSD trajectory tool` from `VMD`, the simulations are then aligned to the first PDB file of the first simulation. All the heavy atoms in the macromolecule are used in the alignment. The trajectory is then saved as a `dcd` file."
   ]
  },
  {
   "cell_type": "markdown",
   "metadata": {},
   "source": [
    "## 2. Using MDtraj and custom tools to create the density\n",
    "Using the osmostated DHFR simulations as an example.\n",
    "### 2.1 Load the simulation data"
   ]
  },
  {
   "cell_type": "code",
   "execution_count": 2,
   "metadata": {},
   "outputs": [
    {
     "name": "stdout",
     "output_type": "stream",
     "text": [
      "../testsystems/dhfr/200mM/out1.nc\n",
      "../testsystems/dhfr/200mM/out2.nc\n",
      "../testsystems/dhfr/200mM/out3.nc\n"
     ]
    }
   ],
   "source": [
    "def get_ion_identities(netcdf_filenames, stride=1):\n",
    "    \"\"\"\n",
    "    Extract the ion densities from a series of netcdf files from a SaltSwap simulation.\n",
    "    \"\"\"\n",
    "    identities = []\n",
    "    for filename in netcdf_filenames:\n",
    "        print(filename)\n",
    "        ncfile = Dataset(filename, 'r')\n",
    "        data = ncfile.groups['Sample state data']['identities'][:,:]\n",
    "        identities.append(data[::stride, :])\n",
    "        ncfile.close()\n",
    "    identities = np.vstack([*identities])\n",
    "    return np.array(identities)\n",
    "\n",
    "# Get the ion indices\n",
    "file_names = ['out1.nc', 'out2.nc', 'out3.nc']\n",
    "files = ['../testsystems/dhfr/200mM/' + f for f in file_names]\n",
    "identities = get_ion_identities(files, stride=1)\n",
    "\n",
    "# Load the trajectory with the protein centered and aligned.\n",
    "traj = mdtraj.load('../testsystems/dhfr/200mM/out_all_aligned.dcd', top='../testsystems/dhfr/200mM/out1.pdb')"
   ]
  },
  {
   "cell_type": "markdown",
   "metadata": {},
   "source": [
    "### 2.2 Extract the coordinates of interest\n",
    "The identities of the ions are constantly changing in osmostated simulations, so special care must be taken when finding the coordinates. "
   ]
  },
  {
   "cell_type": "code",
   "execution_count": 3,
   "metadata": {},
   "outputs": [],
   "source": [
    "# The ions are read by MDtraj to be water molecules.\n",
    "water_indices = traj.topology.select_atom_indices('water')\n",
    "\n",
    "# Instead, we need to find which water molecules are in fact ions, and take their coordinates.\n",
    "[nframes, nwaters] = identities.shape\n",
    "cation_xyz = []\n",
    "anion_xyz = []\n",
    "for frame in range(traj.n_frames - 1):\n",
    "    # Cations\n",
    "    indices = [water_indices[water_index] for water_index in range(nwaters) if identities[frame, water_index]==1]\n",
    "    cation_xyz.append(traj.xyz[frame + 1, indices, :])\n",
    "    # (\"frame + 1\" is used instead of just \"frame\") because the loaded trajectory also contains the initial PDB (out1.pdb)).\n",
    "    # Anions\n",
    "    indices = [water_indices[water_index] for water_index in range(nwaters) if identities[frame, water_index]==2]\n",
    "    anion_xyz.append(traj.xyz[frame + 1, indices, :])\n",
    "\n",
    "# Simplifying data structure and converting from nanometers to Ångstroms.\n",
    "cation_xyz = np.vstack([*cation_xyz]) * 10.0   # MDtraj appears to load coordinates in nanometers.\n",
    "anion_xyz = np.vstack([*anion_xyz]) * 10.0"
   ]
  },
  {
   "cell_type": "markdown",
   "metadata": {},
   "source": [
    "### 2.3 Get the 3D density\n",
    "We'll borrow some tools from [ProtoMS 3](http://www.essexgroup.soton.ac.uk/ProtoMS/) to create a smoothed 3D histogram of ion densities. We'll be treating each atom as a hard sphere."
   ]
  },
  {
   "cell_type": "code",
   "execution_count": 4,
   "metadata": {
    "collapsed": true
   },
   "outputs": [],
   "source": [
    "# Some paramters for the spherical smoothing\n",
    "extent = 2.0   # The effective radius of the atom. The larger this is.\n",
    "spacing = 1.0  # The grid spacing in Angstroms. \n",
    "# The smaller \"spacing\" is, the finer the 3D mesh, but it will take longer to calculate it."
   ]
  },
  {
   "cell_type": "markdown",
   "metadata": {},
   "source": [
    "**Cations**"
   ]
  },
  {
   "cell_type": "code",
   "execution_count": 7,
   "metadata": {},
   "outputs": [],
   "source": [
    "grid, edges = misc_tools._init_grid(cation_xyz, spacing, 0.0)\n",
    "for coord in cation_xyz:\n",
    "    misc_tools._fill_sphere(coord, grid, edges, spacing, extent)\n",
    "    \n",
    "grid_cation = grid / np.max(grid) * 100.0   # Setting the isovalues to be between 0 and 100.\n",
    "\n",
    "# Save the 3D histogram as a dx file.\n",
    "misc_tools.writeDX(grid_cation, [e[0] for e in edges], spacing, 'dhfr_cation_density_pms.dx')"
   ]
  },
  {
   "cell_type": "markdown",
   "metadata": {},
   "source": [
    "We can find the total probability a particular isovalue encompasses like so:"
   ]
  },
  {
   "cell_type": "code",
   "execution_count": 8,
   "metadata": {},
   "outputs": [
    {
     "name": "stdout",
     "output_type": "stream",
     "text": [
      "Proportion of cation density within an isovalue of 15.0 is 6.383311%\n"
     ]
    }
   ],
   "source": [
    "isovalue = 15.0\n",
    "\n",
    "# Normalize the grid:\n",
    "normed = grid_cation.copy()\n",
    "normed = normed / np.sum(normed)\n",
    "\n",
    "print('Proportion of cation density within an isovalue of {0} is {1:3f}%'.format(isovalue, normed[np.where(grid_cation > isovalue)].sum() * 100))"
   ]
  },
  {
   "cell_type": "markdown",
   "metadata": {},
   "source": [
    "**Anions**"
   ]
  },
  {
   "cell_type": "code",
   "execution_count": 9,
   "metadata": {
    "collapsed": true
   },
   "outputs": [],
   "source": [
    "# Anions\n",
    "grid, edges = misc_tools._init_grid(anion_xyz, spacing, 0.0)\n",
    "for coord in anion_xyz:\n",
    "    misc_tools._fill_sphere(coord, grid, edges, spacing, extent)\n",
    "\n",
    "grid_anion = grid / np.max(grid) * 100.0   # Setting the isovalues to be between 0 and 100.\n",
    "\n",
    "# Save the 3D histogram as a dx file.\n",
    "misc_tools.writeDX(grid_anion, [e[0] for e in edges], spacing, 'dhfr_anion_density_pms.dx')"
   ]
  },
  {
   "cell_type": "code",
   "execution_count": 10,
   "metadata": {},
   "outputs": [
    {
     "name": "stdout",
     "output_type": "stream",
     "text": [
      "Proportion of anion density within an isovalue of 60.0 is 0.857791%\n"
     ]
    }
   ],
   "source": [
    "isovalue = 60.0\n",
    "\n",
    "# Normalize the grid:\n",
    "normed = grid_anion.copy()\n",
    "normed = normed / np.sum(normed)\n",
    "\n",
    "print('Proportion of anion density within an isovalue of {0} is {1:3f}%'.format(isovalue, normed[np.where(grid_anion > isovalue)].sum() * 100))"
   ]
  },
  {
   "cell_type": "code",
   "execution_count": null,
   "metadata": {
    "collapsed": true
   },
   "outputs": [],
   "source": []
  }
 ],
 "metadata": {
  "kernelspec": {
   "display_name": "Python 3",
   "language": "python",
   "name": "python3"
  },
  "language_info": {
   "codemirror_mode": {
    "name": "ipython",
    "version": 3
   },
   "file_extension": ".py",
   "mimetype": "text/x-python",
   "name": "python",
   "nbconvert_exporter": "python",
   "pygments_lexer": "ipython3",
   "version": "3.6.1"
  }
 },
 "nbformat": 4,
 "nbformat_minor": 2
}

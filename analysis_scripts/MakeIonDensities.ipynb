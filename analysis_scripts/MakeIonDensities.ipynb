{
 "cells": [
  {
   "cell_type": "code",
   "execution_count": 1,
   "metadata": {
    "collapsed": true
   },
   "outputs": [],
   "source": [
    "import numpy as np\n",
    "from netCDF4 import Dataset\n",
    "import matplotlib.pyplot as plt\n",
    "import mdtraj\n",
    "from time import time\n",
    "\n",
    "import dna_analysis_tools as dna_tools\n",
    "import misc_tools as misc_tools"
   ]
  },
  {
   "cell_type": "markdown",
   "metadata": {},
   "source": [
    "# Creating ion density plots around biomolecules"
   ]
  },
  {
   "cell_type": "markdown",
   "metadata": {},
   "source": [
    "## 1. Centering and aligning the biomolecules\n",
    "Simulations are centered around the biomolecule of interest using `VMD`. All the simulations for a given test system are loaded into first PDB file (i.e. `out1.pdb`). \n",
    "\n",
    "If the biomolecule is a protein, the following command is entered in the `tk console` to center the solvent around biomolecule:\n",
    "```\n",
    "package require pbctools\n",
    "pbc wrap -centersel \"protein\" -center com -compound residue -all\n",
    "```\n",
    "For the DNA dodecamer, the following commands are used:\n",
    "```\n",
    "package require pbctools\n",
    "pbc wrap -centersel \"resid 1 to 24\" -center com -compound residue -all\n",
    "```\n",
    "Using the `RMSD trajectory tool` in `VMD`, the simulations are then aligned to the first PDB file of the first simulation (`out1.pdb`). All the atoms in the macromolecule are used in the alignment. \n"
   ]
  },
  {
   "cell_type": "markdown",
   "metadata": {},
   "source": [
    "## 2. Making the 3D density grid around the macromolecule"
   ]
  },
  {
   "cell_type": "markdown",
   "metadata": {},
   "source": [
    "## Useful functions"
   ]
  },
  {
   "cell_type": "code",
   "execution_count": 2,
   "metadata": {
    "collapsed": true
   },
   "outputs": [],
   "source": [
    "def get_ion_identities(netcdf_filenames, stride=1):\n",
    "    \"\"\"\n",
    "    Extract the ion densities from a series of netcdf files from saltswap.\n",
    "    \"\"\"\n",
    "    identities = []\n",
    "    for filename in netcdf_filenames:\n",
    "        print(filename)\n",
    "        ncfile = Dataset(filename, 'r')\n",
    "        data = ncfile.groups['Sample state data']['identities'][:,:]\n",
    "        identities.append(data[::stride, :])\n",
    "        ncfile.close()\n",
    "    identities = np.vstack([*identities])\n",
    "    return np.array(identities)\n",
    "\n",
    "def get_edges(xyz, spacing=1.5, padding=0) :\n",
    "    \"\"\"\n",
    "    Initialize the egdes required for a 3D histogram of coordinates. \n",
    "    \n",
    "    Adapted from the script 'calc_density' from ProtoMS (protoms.org)\n",
    "\n",
    "    Parameters\n",
    "    ----------\n",
    "    xyz: numpy.ndarray\n",
    "        Cartesian coordinates that should be covered by the grid\n",
    "    spacing: float\n",
    "        the grid spacing\n",
    "    padding: float\n",
    "        the space to add to minimum extent of the coordinates\n",
    "\n",
    "    Returns\n",
    "    -------\n",
    "    edges: list of numpy arrays\n",
    "        the edges of the grid\n",
    "    \"\"\"\n",
    "\n",
    "    origin = np.floor(xyz.min(axis=0)) - padding\n",
    "    tr = np.ceil(xyz.max(axis=0)) + padding\n",
    "    length = tr-origin\n",
    "    shape = np.array([int(l/spacing + 0.5) + 1 for l in length],dtype=int)\n",
    "    edges = [np.linspace(origin[i],tr[i],shape[i]) for i in range(3)]\n",
    "    return edges"
   ]
  },
  {
   "cell_type": "markdown",
   "metadata": {},
   "source": [
    "### Load the simulation data"
   ]
  },
  {
   "cell_type": "code",
   "execution_count": 3,
   "metadata": {},
   "outputs": [
    {
     "name": "stdout",
     "output_type": "stream",
     "text": [
      "../testsystems/dhfr/200mM/out1.nc\n",
      "../testsystems/dhfr/200mM/out2.nc\n",
      "../testsystems/dhfr/200mM/out3.nc\n"
     ]
    }
   ],
   "source": [
    "# Get the ion indices\n",
    "file_names = ['out1.nc', 'out2.nc', 'out3.nc']\n",
    "files = ['../testsystems/dhfr/200mM/' + f for f in file_names]\n",
    "identities = get_ion_identities(files, stride=1)\n",
    "\n",
    "# Load the trajectory with the protein centered and aligned.\n",
    "traj = mdtraj.load('../testsystems/dhfr/200mM/out_all_aligned.dcd', top='../testsystems/dhfr/200mM/out1.pdb')"
   ]
  },
  {
   "cell_type": "markdown",
   "metadata": {},
   "source": [
    "### Get the cation coordinates"
   ]
  },
  {
   "cell_type": "code",
   "execution_count": 4,
   "metadata": {
    "collapsed": true
   },
   "outputs": [],
   "source": [
    "water_indices = traj.topology.select_atom_indices('water')\n",
    "\n",
    "[nframes, nwaters] = identities.shape\n",
    "cation_xyz = []\n",
    "anion_xyz = []\n",
    "for frame in range(traj.n_frames - 1):\n",
    "    # Cations\n",
    "    indices = [water_indices[water_index] for water_index in range(nwaters) if identities[frame, water_index]==1]\n",
    "    cation_xyz.append(traj.xyz[frame + 1, indices, :])\n",
    "    # (\"frame + 1\" is used instead of just \"frame\") because the loaded trajectory also contains the initial PDB (out1.pdb)).\n",
    "    # Anions\n",
    "    indices = [water_indices[water_index] for water_index in range(nwaters) if identities[frame, water_index]==2]\n",
    "    anion_xyz.append(traj.xyz[frame + 1, indices, :])\n",
    "\n",
    "# Simplifying data structure and converting from nanometers to Ångstroms.\n",
    "cation_xyz = np.vstack([*cation_xyz]) * 10.0\n",
    "anion_xyz = np.vstack([*anion_xyz]) * 10.0"
   ]
  },
  {
   "cell_type": "markdown",
   "metadata": {},
   "source": [
    "### 3D histogram of cations and anions"
   ]
  },
  {
   "cell_type": "code",
   "execution_count": 18,
   "metadata": {
    "collapsed": true
   },
   "outputs": [],
   "source": [
    "# Cations\n",
    "edges = get_edges(cation_xyz, spacing=1.5)\n",
    "h, edges = np.histogramdd(cation_xyz, edges)\n",
    "# Scale the histogram and set to percent\n",
    "h = h / np.max(h) * 100.0\n",
    "misc_tools.writeDX(h, [e[0] for e in edges], np.diff(edges[1])[0], 'cation_density.dx')\n",
    "\n",
    "# Anions\n",
    "edges = get_edges(anion_xyz, spacing=1.5)\n",
    "h, edges = np.histogramdd(anion_xyz, edges)\n",
    "# Scale the histogram and set to percent\n",
    "h = h / np.max(h) * 100.0\n",
    "misc_tools.writeDX(h, [e[0] for e in edges], np.diff(edges[1])[0], 'anion_density.dx')"
   ]
  },
  {
   "cell_type": "markdown",
   "metadata": {},
   "source": [
    "### Using ProtoMS's density tool"
   ]
  },
  {
   "cell_type": "code",
   "execution_count": 5,
   "metadata": {
    "collapsed": true
   },
   "outputs": [],
   "source": [
    "padding = 0\n",
    "extent = 2\n",
    "spacing = 1"
   ]
  },
  {
   "cell_type": "code",
   "execution_count": 6,
   "metadata": {
    "collapsed": true
   },
   "outputs": [],
   "source": [
    "# Cations\n",
    "grid, edges = misc_tools._init_grid(cation_xyz, spacing, padding)\n",
    "for coord in cation_xyz:\n",
    "    misc_tools._fill_sphere(coord, grid, edges, spacing, extent)\n",
    "grid = grid / np.max(grid) * 100.0   \n",
    "misc_tools.writeDX(grid, [e[0] for e in edges], spacing, 'dhfr_cation_density_pms.dx')"
   ]
  },
  {
   "cell_type": "code",
   "execution_count": 7,
   "metadata": {},
   "outputs": [
    {
     "data": {
      "text/plain": [
       "6.3833114116321701"
      ]
     },
     "execution_count": 7,
     "metadata": {},
     "output_type": "execute_result"
    }
   ],
   "source": [
    "normed = grid.copy()\n",
    "normed = normed / np.sum(normed)\n",
    "normed[np.where(grid > 15)].sum() * 100"
   ]
  },
  {
   "cell_type": "code",
   "execution_count": 8,
   "metadata": {
    "collapsed": true
   },
   "outputs": [],
   "source": [
    "\n",
    "# Anions\n",
    "grid, edges = misc_tools._init_grid(anion_xyz, spacing, padding)\n",
    "for coord in anion_xyz:\n",
    "    misc_tools._fill_sphere(coord, grid, edges, spacing, extent)\n",
    "grid = grid / np.max(grid) * 100.0\n",
    "misc_tools.writeDX(grid, [e[0] for e in edges], spacing, 'dhfr_anion_density_pms.dx')\n"
   ]
  },
  {
   "cell_type": "code",
   "execution_count": 9,
   "metadata": {},
   "outputs": [
    {
     "data": {
      "text/plain": [
       "0.85779107115544795"
      ]
     },
     "execution_count": 9,
     "metadata": {},
     "output_type": "execute_result"
    }
   ],
   "source": [
    "normed = grid.copy()\n",
    "normed = normed / np.sum(normed)\n",
    "normed[np.where(grid > 60)].sum() * 100"
   ]
  }
 ],
 "metadata": {
  "kernelspec": {
   "display_name": "Python 3",
   "language": "python",
   "name": "python3"
  },
  "language_info": {
   "codemirror_mode": {
    "name": "ipython",
    "version": 3
   },
   "file_extension": ".py",
   "mimetype": "text/x-python",
   "name": "python",
   "nbconvert_exporter": "python",
   "pygments_lexer": "ipython3",
   "version": "3.6.1"
  }
 },
 "nbformat": 4,
 "nbformat_minor": 2
}
